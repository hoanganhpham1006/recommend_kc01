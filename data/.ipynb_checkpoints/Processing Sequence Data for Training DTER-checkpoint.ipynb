{
 "cells": [
  {
   "cell_type": "code",
   "execution_count": 1,
   "metadata": {},
   "outputs": [],
   "source": [
    "import pandas\n",
    "\n",
    "SPLIT_SESSION_SECOND = 3600\n",
    "all_sess = []"
   ]
  },
  {
   "cell_type": "code",
   "execution_count": 2,
   "metadata": {},
   "outputs": [],
   "source": [
    "url = pandas.read_csv('url_MostPortal_all.csv', header=None)\n",
    "trans = pandas.read_csv('transaction_MostPortal_all.csv', header=None).assign(visited=False).sort_values(by=[3, 1], inplace=False)\n",
    "posts = pandas.read_csv('post_MostPortal_all.csv', header=None)"
   ]
  },
  {
   "cell_type": "code",
   "execution_count": 3,
   "metadata": {},
   "outputs": [
    {
     "data": {
      "text/html": [
       "<div>\n",
       "<style scoped>\n",
       "    .dataframe tbody tr th:only-of-type {\n",
       "        vertical-align: middle;\n",
       "    }\n",
       "\n",
       "    .dataframe tbody tr th {\n",
       "        vertical-align: top;\n",
       "    }\n",
       "\n",
       "    .dataframe thead th {\n",
       "        text-align: right;\n",
       "    }\n",
       "</style>\n",
       "<table border=\"1\" class=\"dataframe\">\n",
       "  <thead>\n",
       "    <tr style=\"text-align: right;\">\n",
       "      <th></th>\n",
       "      <th>0</th>\n",
       "      <th>1</th>\n",
       "    </tr>\n",
       "  </thead>\n",
       "  <tbody>\n",
       "    <tr>\n",
       "      <th>0</th>\n",
       "      <td>17463</td>\n",
       "      <td>/vn/tin-tuc/17463/ky-vong-su-chuyen-minh-manh-...</td>\n",
       "    </tr>\n",
       "    <tr>\n",
       "      <th>1</th>\n",
       "      <td>17462</td>\n",
       "      <td>/vn/tin-tuc/17462/thong-bao-ve-chuong-trinh-ho...</td>\n",
       "    </tr>\n",
       "    <tr>\n",
       "      <th>2</th>\n",
       "      <td>17460</td>\n",
       "      <td>/vn/tin-tuc/17460/le-trong-cay-hoa-anh-dao-tai...</td>\n",
       "    </tr>\n",
       "    <tr>\n",
       "      <th>3</th>\n",
       "      <td>17459</td>\n",
       "      <td>/vn/tin-tuc/17459/thong-bao-de-nghi-cac-so-kho...</td>\n",
       "    </tr>\n",
       "    <tr>\n",
       "      <th>4</th>\n",
       "      <td>17458</td>\n",
       "      <td>/vn/tin-tuc/17458/he-thong-tuoi-ngam-tu-dong-c...</td>\n",
       "    </tr>\n",
       "    <tr>\n",
       "      <th>...</th>\n",
       "      <td>...</td>\n",
       "      <td>...</td>\n",
       "    </tr>\n",
       "    <tr>\n",
       "      <th>14541</th>\n",
       "      <td>17468</td>\n",
       "      <td>/vn/tin-tuc/17468/bao-cao-ket-qua-tu-danh-gia-...</td>\n",
       "    </tr>\n",
       "    <tr>\n",
       "      <th>14542</th>\n",
       "      <td>17467</td>\n",
       "      <td>/vn/tin-tuc/17467/bo-khoa-hoc-va-cong-nghe-tha...</td>\n",
       "    </tr>\n",
       "    <tr>\n",
       "      <th>14543</th>\n",
       "      <td>17466</td>\n",
       "      <td>/vn/tin-tuc/17466/ket-thuc-nhiem-ky-lam-viec-2...</td>\n",
       "    </tr>\n",
       "    <tr>\n",
       "      <th>14544</th>\n",
       "      <td>17465</td>\n",
       "      <td>/vn/tin-tuc/17465/nafosted-tiep-tuc-ho-tro-nha...</td>\n",
       "    </tr>\n",
       "    <tr>\n",
       "      <th>14545</th>\n",
       "      <td>17464</td>\n",
       "      <td>/vn/tin-tuc/17464/huong-dan-xay-dung-ke-hoach-...</td>\n",
       "    </tr>\n",
       "  </tbody>\n",
       "</table>\n",
       "<p>14546 rows × 2 columns</p>\n",
       "</div>"
      ],
      "text/plain": [
       "           0                                                  1\n",
       "0      17463  /vn/tin-tuc/17463/ky-vong-su-chuyen-minh-manh-...\n",
       "1      17462  /vn/tin-tuc/17462/thong-bao-ve-chuong-trinh-ho...\n",
       "2      17460  /vn/tin-tuc/17460/le-trong-cay-hoa-anh-dao-tai...\n",
       "3      17459  /vn/tin-tuc/17459/thong-bao-de-nghi-cac-so-kho...\n",
       "4      17458  /vn/tin-tuc/17458/he-thong-tuoi-ngam-tu-dong-c...\n",
       "...      ...                                                ...\n",
       "14541  17468  /vn/tin-tuc/17468/bao-cao-ket-qua-tu-danh-gia-...\n",
       "14542  17467  /vn/tin-tuc/17467/bo-khoa-hoc-va-cong-nghe-tha...\n",
       "14543  17466  /vn/tin-tuc/17466/ket-thuc-nhiem-ky-lam-viec-2...\n",
       "14544  17465  /vn/tin-tuc/17465/nafosted-tiep-tuc-ho-tro-nha...\n",
       "14545  17464  /vn/tin-tuc/17464/huong-dan-xay-dung-ke-hoach-...\n",
       "\n",
       "[14546 rows x 2 columns]"
      ]
     },
     "execution_count": 3,
     "metadata": {},
     "output_type": "execute_result"
    }
   ],
   "source": [
    "url"
   ]
  },
  {
   "cell_type": "code",
   "execution_count": 4,
   "metadata": {},
   "outputs": [
    {
     "data": {
      "text/html": [
       "<div>\n",
       "<style scoped>\n",
       "    .dataframe tbody tr th:only-of-type {\n",
       "        vertical-align: middle;\n",
       "    }\n",
       "\n",
       "    .dataframe tbody tr th {\n",
       "        vertical-align: top;\n",
       "    }\n",
       "\n",
       "    .dataframe thead th {\n",
       "        text-align: right;\n",
       "    }\n",
       "</style>\n",
       "<table border=\"1\" class=\"dataframe\">\n",
       "  <thead>\n",
       "    <tr style=\"text-align: right;\">\n",
       "      <th></th>\n",
       "      <th>0</th>\n",
       "      <th>1</th>\n",
       "      <th>2</th>\n",
       "      <th>3</th>\n",
       "      <th>4</th>\n",
       "    </tr>\n",
       "  </thead>\n",
       "  <tbody>\n",
       "    <tr>\n",
       "      <th>0</th>\n",
       "      <td>17432</td>\n",
       "      <td>Thông tin về kết quả thực hiện nhiệm vụ cấp qu...</td>\n",
       "      <td>525.0</td>\n",
       "      <td>Tổng kinh phí thực hiện: 4.250 triệu đồng (từ ...</td>\n",
       "      <td>NaN</td>\n",
       "    </tr>\n",
       "    <tr>\n",
       "      <th>1</th>\n",
       "      <td>17431</td>\n",
       "      <td>Thông tin về kết quả thực hiện nhiệm vụ cấp qu...</td>\n",
       "      <td>525.0</td>\n",
       "      <td>Tổng kinh phí thực hiện: 8.750 triệu đồng (từ ...</td>\n",
       "      <td>NaN</td>\n",
       "    </tr>\n",
       "    <tr>\n",
       "      <th>2</th>\n",
       "      <td>17430</td>\n",
       "      <td>Thông tin về kết quả thực hiện nhiệm vụ cấp qu...</td>\n",
       "      <td>525.0</td>\n",
       "      <td>Tổng kinh phí thực hiện: 9.310,00 triệu đồng (...</td>\n",
       "      <td>NaN</td>\n",
       "    </tr>\n",
       "    <tr>\n",
       "      <th>3</th>\n",
       "      <td>17429</td>\n",
       "      <td>Thông tin về kết quả thực hiện nhiệm vụ cấp qu...</td>\n",
       "      <td>525.0</td>\n",
       "      <td>Tổng kinh phí thực hiện: 11.040 triệu đồng (từ...</td>\n",
       "      <td>NaN</td>\n",
       "    </tr>\n",
       "    <tr>\n",
       "      <th>4</th>\n",
       "      <td>17428</td>\n",
       "      <td>Thông báo Chương trình tài trợ nghiên cứu cơ b...</td>\n",
       "      <td>525.0</td>\n",
       "      <td>Quỹ Phát triển khoa học và công nghệ Quốc gia ...</td>\n",
       "      <td>NaN</td>\n",
       "    </tr>\n",
       "    <tr>\n",
       "      <th>...</th>\n",
       "      <td>...</td>\n",
       "      <td>...</td>\n",
       "      <td>...</td>\n",
       "      <td>...</td>\n",
       "      <td>...</td>\n",
       "    </tr>\n",
       "    <tr>\n",
       "      <th>14718</th>\n",
       "      <td>17474</td>\n",
       "      <td>Viện Khoa học sở hữu trí tuệ tổ chức Đoàn thăm...</td>\n",
       "      <td>493.0</td>\n",
       "      <td>Mục đích của Đoàn là học tập, trao đổi kinh ng...</td>\n",
       "      <td>Ngày 09-15/02/2020, Viện Khoa học sở hữu trí t...</td>\n",
       "    </tr>\n",
       "    <tr>\n",
       "      <th>14719</th>\n",
       "      <td>17470</td>\n",
       "      <td>Lễ khai giảng Chương trình đào tạo trình độ Ti...</td>\n",
       "      <td>493.0</td>\n",
       "      <td>Tham dự buổi lễ khai giảng có PGS.TS Bùi Thế D...</td>\n",
       "      <td>Sáng ngày 15/02/2020, Học viện Khoa học, Công ...</td>\n",
       "    </tr>\n",
       "    <tr>\n",
       "      <th>14720</th>\n",
       "      <td>17473</td>\n",
       "      <td>Nghiên cứu ảnh hưởng của việc đốt nóng bề mặt ...</td>\n",
       "      <td>493.0</td>\n",
       "      <td>Mục tiêu chính của đề tài là nghiên cứu kỹ hơn...</td>\n",
       "      <td>Nhóm nghiên cứu tại Viện Điện thuộc trường Đại...</td>\n",
       "    </tr>\n",
       "    <tr>\n",
       "      <th>14721</th>\n",
       "      <td>17472</td>\n",
       "      <td>Nghiên cứu thiết kế chế tạo máy in kỹ thuật số...</td>\n",
       "      <td>493.0</td>\n",
       "      <td>Máy in của đề tài đã được nghiên cứu chế tạo t...</td>\n",
       "      <td>Nhu cầu in kỹ thuật số ngày càng tăng trên sản...</td>\n",
       "    </tr>\n",
       "    <tr>\n",
       "      <th>14722</th>\n",
       "      <td>17471</td>\n",
       "      <td>Hoàn thiện quy trình công nghệ sản xuất Magie ...</td>\n",
       "      <td>493.0</td>\n",
       "      <td>Hệ thiết bị làm sạch nước\\nTrước đây, Trung tâ...</td>\n",
       "      <td>Xuất phát từ việc một số công ty dược trong nư...</td>\n",
       "    </tr>\n",
       "  </tbody>\n",
       "</table>\n",
       "<p>14723 rows × 5 columns</p>\n",
       "</div>"
      ],
      "text/plain": [
       "           0                                                  1      2  \\\n",
       "0      17432  Thông tin về kết quả thực hiện nhiệm vụ cấp qu...  525.0   \n",
       "1      17431  Thông tin về kết quả thực hiện nhiệm vụ cấp qu...  525.0   \n",
       "2      17430  Thông tin về kết quả thực hiện nhiệm vụ cấp qu...  525.0   \n",
       "3      17429  Thông tin về kết quả thực hiện nhiệm vụ cấp qu...  525.0   \n",
       "4      17428  Thông báo Chương trình tài trợ nghiên cứu cơ b...  525.0   \n",
       "...      ...                                                ...    ...   \n",
       "14718  17474  Viện Khoa học sở hữu trí tuệ tổ chức Đoàn thăm...  493.0   \n",
       "14719  17470  Lễ khai giảng Chương trình đào tạo trình độ Ti...  493.0   \n",
       "14720  17473  Nghiên cứu ảnh hưởng của việc đốt nóng bề mặt ...  493.0   \n",
       "14721  17472  Nghiên cứu thiết kế chế tạo máy in kỹ thuật số...  493.0   \n",
       "14722  17471  Hoàn thiện quy trình công nghệ sản xuất Magie ...  493.0   \n",
       "\n",
       "                                                       3  \\\n",
       "0      Tổng kinh phí thực hiện: 4.250 triệu đồng (từ ...   \n",
       "1      Tổng kinh phí thực hiện: 8.750 triệu đồng (từ ...   \n",
       "2      Tổng kinh phí thực hiện: 9.310,00 triệu đồng (...   \n",
       "3      Tổng kinh phí thực hiện: 11.040 triệu đồng (từ...   \n",
       "4      Quỹ Phát triển khoa học và công nghệ Quốc gia ...   \n",
       "...                                                  ...   \n",
       "14718  Mục đích của Đoàn là học tập, trao đổi kinh ng...   \n",
       "14719  Tham dự buổi lễ khai giảng có PGS.TS Bùi Thế D...   \n",
       "14720  Mục tiêu chính của đề tài là nghiên cứu kỹ hơn...   \n",
       "14721  Máy in của đề tài đã được nghiên cứu chế tạo t...   \n",
       "14722  Hệ thiết bị làm sạch nước\\nTrước đây, Trung tâ...   \n",
       "\n",
       "                                                       4  \n",
       "0                                                    NaN  \n",
       "1                                                    NaN  \n",
       "2                                                    NaN  \n",
       "3                                                    NaN  \n",
       "4                                                    NaN  \n",
       "...                                                  ...  \n",
       "14718  Ngày 09-15/02/2020, Viện Khoa học sở hữu trí t...  \n",
       "14719  Sáng ngày 15/02/2020, Học viện Khoa học, Công ...  \n",
       "14720  Nhóm nghiên cứu tại Viện Điện thuộc trường Đại...  \n",
       "14721  Nhu cầu in kỹ thuật số ngày càng tăng trên sản...  \n",
       "14722  Xuất phát từ việc một số công ty dược trong nư...  \n",
       "\n",
       "[14723 rows x 5 columns]"
      ]
     },
     "execution_count": 4,
     "metadata": {},
     "output_type": "execute_result"
    }
   ],
   "source": [
    "posts"
   ]
  },
  {
   "cell_type": "code",
   "execution_count": 5,
   "metadata": {},
   "outputs": [],
   "source": [
    "map_id_title = {}\n",
    "\n",
    "for row in posts.iterrows():\n",
    "    if row[1][0] not in map_id_title:\n",
    "        map_id_title[row[1][0]] = row[1][1]"
   ]
  },
  {
   "cell_type": "code",
   "execution_count": 6,
   "metadata": {},
   "outputs": [],
   "source": [
    "map_id_nid = {}\n",
    "map_url_nid = {}\n",
    "map_nid_info = {}\n",
    "\n",
    "i = 1\n",
    "for row in url.iterrows():\n",
    "    if row[1][0] not in map_id_nid:\n",
    "        map_id_nid[row[1][0]] = i\n",
    "        map_url_nid[row[1][1]] = i\n",
    "        \n",
    "        title = ''\n",
    "        if row[1][0] in map_id_title:\n",
    "            title = map_id_title[row[1][0]]\n",
    "        \n",
    "        map_nid_info[i] = [row[1][1], title]\n",
    "        i += 1"
   ]
  },
  {
   "cell_type": "code",
   "execution_count": 8,
   "metadata": {},
   "outputs": [],
   "source": [
    "# map_id_nid"
   ]
  },
  {
   "cell_type": "code",
   "execution_count": 9,
   "metadata": {},
   "outputs": [
    {
     "name": "stdout",
     "output_type": "stream",
     "text": [
      "14547\n"
     ]
    }
   ],
   "source": [
    "print(i)"
   ]
  },
  {
   "cell_type": "code",
   "execution_count": 11,
   "metadata": {},
   "outputs": [],
   "source": [
    "# map_nid_info"
   ]
  },
  {
   "cell_type": "code",
   "execution_count": 12,
   "metadata": {},
   "outputs": [
    {
     "data": {
      "text/html": [
       "<div>\n",
       "<style scoped>\n",
       "    .dataframe tbody tr th:only-of-type {\n",
       "        vertical-align: middle;\n",
       "    }\n",
       "\n",
       "    .dataframe tbody tr th {\n",
       "        vertical-align: top;\n",
       "    }\n",
       "\n",
       "    .dataframe thead th {\n",
       "        text-align: right;\n",
       "    }\n",
       "</style>\n",
       "<table border=\"1\" class=\"dataframe\">\n",
       "  <thead>\n",
       "    <tr style=\"text-align: right;\">\n",
       "      <th></th>\n",
       "      <th>0</th>\n",
       "      <th>1</th>\n",
       "      <th>2</th>\n",
       "      <th>3</th>\n",
       "      <th>visited</th>\n",
       "    </tr>\n",
       "  </thead>\n",
       "  <tbody>\n",
       "    <tr>\n",
       "      <th>43302</th>\n",
       "      <td>11cf6e6e-6716-4559-89d6-d637b0a5ae3b</td>\n",
       "      <td>15195</td>\n",
       "      <td>570.0</td>\n",
       "      <td>1421216512</td>\n",
       "      <td>False</td>\n",
       "    </tr>\n",
       "    <tr>\n",
       "      <th>35044</th>\n",
       "      <td>b3245c83-11e2-41d0-9b16-017d1c90188d</td>\n",
       "      <td>16173</td>\n",
       "      <td>522.0</td>\n",
       "      <td>1536609805</td>\n",
       "      <td>False</td>\n",
       "    </tr>\n",
       "    <tr>\n",
       "      <th>40328</th>\n",
       "      <td>76d6917d-7d9e-4c52-ada3-af8b86f35c1a</td>\n",
       "      <td>11560</td>\n",
       "      <td>506.0</td>\n",
       "      <td>1536675939</td>\n",
       "      <td>False</td>\n",
       "    </tr>\n",
       "    <tr>\n",
       "      <th>12516</th>\n",
       "      <td>c700e8bf-1642-4847-b6c5-396d78fb6df3</td>\n",
       "      <td>15340</td>\n",
       "      <td>493.0</td>\n",
       "      <td>1567043187</td>\n",
       "      <td>False</td>\n",
       "    </tr>\n",
       "    <tr>\n",
       "      <th>319240</th>\n",
       "      <td>cd19eca9-eb92-4188-a94d-236f12ce35ca</td>\n",
       "      <td>15768</td>\n",
       "      <td>493.0</td>\n",
       "      <td>1567993576</td>\n",
       "      <td>False</td>\n",
       "    </tr>\n",
       "    <tr>\n",
       "      <th>...</th>\n",
       "      <td>...</td>\n",
       "      <td>...</td>\n",
       "      <td>...</td>\n",
       "      <td>...</td>\n",
       "      <td>...</td>\n",
       "    </tr>\n",
       "    <tr>\n",
       "      <th>322255</th>\n",
       "      <td>23e73a56-289f-472c-8840-f3cf3924bd1a</td>\n",
       "      <td>17470</td>\n",
       "      <td>493.0</td>\n",
       "      <td>1582206469</td>\n",
       "      <td>False</td>\n",
       "    </tr>\n",
       "    <tr>\n",
       "      <th>322256</th>\n",
       "      <td>b235cbc5-ffc7-4f1e-a9f3-a032d35bb7c1</td>\n",
       "      <td>7039</td>\n",
       "      <td>493.0</td>\n",
       "      <td>1582206571</td>\n",
       "      <td>False</td>\n",
       "    </tr>\n",
       "    <tr>\n",
       "      <th>322257</th>\n",
       "      <td>7f532917-c306-445c-9a65-b7a6b430f3e2</td>\n",
       "      <td>17466</td>\n",
       "      <td>493.0</td>\n",
       "      <td>1582206573</td>\n",
       "      <td>False</td>\n",
       "    </tr>\n",
       "    <tr>\n",
       "      <th>322258</th>\n",
       "      <td>b7e25387-4a26-43f9-8de0-642f77fef25e</td>\n",
       "      <td>17470</td>\n",
       "      <td>493.0</td>\n",
       "      <td>1582206648</td>\n",
       "      <td>False</td>\n",
       "    </tr>\n",
       "    <tr>\n",
       "      <th>322259</th>\n",
       "      <td>4da0d22c-101a-449b-a06e-9e9931fc0aca</td>\n",
       "      <td>15530</td>\n",
       "      <td>493.0</td>\n",
       "      <td>1582206657</td>\n",
       "      <td>False</td>\n",
       "    </tr>\n",
       "  </tbody>\n",
       "</table>\n",
       "<p>322260 rows × 5 columns</p>\n",
       "</div>"
      ],
      "text/plain": [
       "                                           0      1      2           3  \\\n",
       "43302   11cf6e6e-6716-4559-89d6-d637b0a5ae3b  15195  570.0  1421216512   \n",
       "35044   b3245c83-11e2-41d0-9b16-017d1c90188d  16173  522.0  1536609805   \n",
       "40328   76d6917d-7d9e-4c52-ada3-af8b86f35c1a  11560  506.0  1536675939   \n",
       "12516   c700e8bf-1642-4847-b6c5-396d78fb6df3  15340  493.0  1567043187   \n",
       "319240  cd19eca9-eb92-4188-a94d-236f12ce35ca  15768  493.0  1567993576   \n",
       "...                                      ...    ...    ...         ...   \n",
       "322255  23e73a56-289f-472c-8840-f3cf3924bd1a  17470  493.0  1582206469   \n",
       "322256  b235cbc5-ffc7-4f1e-a9f3-a032d35bb7c1   7039  493.0  1582206571   \n",
       "322257  7f532917-c306-445c-9a65-b7a6b430f3e2  17466  493.0  1582206573   \n",
       "322258  b7e25387-4a26-43f9-8de0-642f77fef25e  17470  493.0  1582206648   \n",
       "322259  4da0d22c-101a-449b-a06e-9e9931fc0aca  15530  493.0  1582206657   \n",
       "\n",
       "        visited  \n",
       "43302     False  \n",
       "35044     False  \n",
       "40328     False  \n",
       "12516     False  \n",
       "319240    False  \n",
       "...         ...  \n",
       "322255    False  \n",
       "322256    False  \n",
       "322257    False  \n",
       "322258    False  \n",
       "322259    False  \n",
       "\n",
       "[322260 rows x 5 columns]"
      ]
     },
     "execution_count": 12,
     "metadata": {},
     "output_type": "execute_result"
    }
   ],
   "source": [
    "trans"
   ]
  },
  {
   "cell_type": "code",
   "execution_count": 13,
   "metadata": {},
   "outputs": [],
   "source": [
    "number_rows = trans[0].count()"
   ]
  },
  {
   "cell_type": "code",
   "execution_count": 14,
   "metadata": {},
   "outputs": [
    {
     "name": "stderr",
     "output_type": "stream",
     "text": [
      "/Users/phamhoanganh/virtualenv/kc01-training/lib/python3.7/site-packages/ipykernel_launcher.py:10: SettingWithCopyWarning: \n",
      "A value is trying to be set on a copy of a slice from a DataFrame\n",
      "\n",
      "See the caveats in the documentation: https://pandas.pydata.org/pandas-docs/stable/user_guide/indexing.html#returning-a-view-versus-a-copy\n",
      "  # Remove the CWD from sys.path while we load stuff.\n",
      "/Users/phamhoanganh/virtualenv/kc01-training/lib/python3.7/site-packages/ipykernel_launcher.py:28: SettingWithCopyWarning: \n",
      "A value is trying to be set on a copy of a slice from a DataFrame\n",
      "\n",
      "See the caveats in the documentation: https://pandas.pydata.org/pandas-docs/stable/user_guide/indexing.html#returning-a-view-versus-a-copy\n"
     ]
    }
   ],
   "source": [
    "for i in range(number_rows):\n",
    "    if trans['visited'][i]:\n",
    "        continue\n",
    "    if i == number_rows - 1 or trans[0][i] != trans[0][i+1]:\n",
    "        continue\n",
    "    if trans[1][i] not in map_id_nid:\n",
    "        continue\n",
    "    uid = trans[0][i]\n",
    "    lastest_timestamp = trans[3][i]\n",
    "    trans['visited'][i] = True\n",
    "    cur_sess = []\n",
    "    time_cur_sess = trans[3][i]\n",
    "    \n",
    "#     if result[i]['itemid'] not in re_id_item:\n",
    "#         re_id_item[result[i]['itemid']] = item_no\n",
    "#         item_no += 1\n",
    "    cur_sess.append(map_id_nid[trans[1][i]])\n",
    "    j = i + 1\n",
    "    while trans[0][j] == uid and int(trans[3][j]) - int(lastest_timestamp) <= SPLIT_SESSION_SECOND:\n",
    "        if trans['visited'][j]:\n",
    "            j += 1\n",
    "            if j == number_rows:\n",
    "                break\n",
    "            continue\n",
    "        if trans[1][j] in map_id_nid:\n",
    "            cur_sess.append(map_id_nid[trans[1][j]])\n",
    "            lastest_timestamp = trans[3][j]\n",
    "            trans['visited'][j] = True\n",
    "        j += 1\n",
    "        if j == number_rows:\n",
    "                break\n",
    "    # Filter out length 1 sessions\n",
    "    if len(cur_sess) > 1:\n",
    "        all_sess.append([int(time_cur_sess), cur_sess])\n",
    "    del cur_sess"
   ]
  },
  {
   "cell_type": "code",
   "execution_count": 15,
   "metadata": {},
   "outputs": [
    {
     "data": {
      "text/plain": [
       "33133"
      ]
     },
     "execution_count": 15,
     "metadata": {},
     "output_type": "execute_result"
    }
   ],
   "source": [
    "len(all_sess)"
   ]
  },
  {
   "cell_type": "code",
   "execution_count": 17,
   "metadata": {},
   "outputs": [
    {
     "data": {
      "text/plain": [
       "[[1572110051, [547, 839, 1010]],\n",
       " [1572111409, [543, 543, 554, 554]],\n",
       " [1572111484,\n",
       "  [542, 542, 543, 543, 546, 546, 549, 549, 550, 550, 554, 554, 560]],\n",
       " [1572111615, [584, 584]],\n",
       " [1572111646, [585, 585, 593]],\n",
       " [1572111658, [561, 562]],\n",
       " [1572111667, [593, 594]],\n",
       " [1572111685, [594, 653]],\n",
       " [1572111713, [654, 654]],\n",
       " [1572111744, [656, 657]]]"
      ]
     },
     "execution_count": 17,
     "metadata": {},
     "output_type": "execute_result"
    }
   ],
   "source": [
    "all_sess[:10]"
   ]
  },
  {
   "cell_type": "code",
   "execution_count": 18,
   "metadata": {},
   "outputs": [],
   "source": [
    "with open('most_additional.txt', 'r') as f:\n",
    "    lines = f.readlines()"
   ]
  },
  {
   "cell_type": "code",
   "execution_count": 29,
   "metadata": {},
   "outputs": [],
   "source": [
    "new_post = []\n",
    "for line in lines:\n",
    "    try:\n",
    "        a = map_url_nid[line[23:-1]]\n",
    "    except:\n",
    "        new_post.append(line[23:-1])"
   ]
  },
  {
   "cell_type": "code",
   "execution_count": 30,
   "metadata": {},
   "outputs": [],
   "source": [
    "new_post = set(new_post)"
   ]
  },
  {
   "cell_type": "code",
   "execution_count": 31,
   "metadata": {},
   "outputs": [
    {
     "data": {
      "text/plain": [
       "{'',\n",
       " '/vn/tin-tuc/15860/quyet-dinh-so-675-qd-bkhcn-ngay-28-3-2019-cua-bo-khcn-ban-hanh-danh-muc-dich-vu-cong-truc-tuyen-muc-do-3--muc-do-4-cua-bo-khoa-hoc-va-cong-nghe-.aspx',\n",
       " '/vn/tin-tuc/16826/thong-bao-ve-viec-cu-cong-chuc--vien-chuc-du-xet-tuyen-dao-tao-dai-hoc-va-sau-dai-hoc-tai-trung-quoc-nam-2020.aspx',\n",
       " '/vn/tin-tuc/17330/cuc-nang-luong-nguyen-tu-to-chuc-le-trao-quyet-dinh-bo-nhiem--bo-nhiem-lai-lanh-dao-mot-so-don-vi-truc-thuoc-cuc.aspx',\n",
       " '/vn/tin-tuc/17482/thu-tuong-chi-thi-tao-dieu-kien-cho-doanh-nghiep-khoi-nghiep-sang-tao.aspx',\n",
       " '/vn/tin-tuc/17497/mo-them-duong-cho-startup-ra-bien-lon.aspx',\n",
       " '/vn/tin-tuc/17522/dua-chat-xam-xuong-tuyen-huyen--san-xuat-hang-loat-test-kit-xet-nghiem-made-in-vietnam.aspx',\n",
       " '/vn/tin-tuc/17528/thong-bao-tuyen-chon-to-chuc-va-ca-nhan-chu-tri-thuc-hien-nhiem-vu-khoa-hoc-va-cong-nghe-theo-nghi-dinh-thu-voi-i-xra-en.aspx',\n",
       " '/vn/tin-tuc/17538/thong-bao-tuyen-chon-to-chuc-va-ca-nhan-chu-tri-thuc-hien-nhiem-vu-khoa-hoc-va-cong-nghe-cap-quoc-gia-thuc-hien-trong-ke-hoach-nam.aspx',\n",
       " '/vn/tin-tuc/17539/thong-bao-tuyen-chon-to-chuc-va-ca-nhan-chu-tri-thuc-hien-nhiem-vu-khoa-hoc-va-cong-nghe-cap-quoc-gia-thuc-hien-trong-ke-hoach-nam.aspx',\n",
       " '/vn/tin-tuc/17541/bao-cao-ket-qua-tu-danh-gia-nhiem-vu-khcn-cap-quoc-gia--nghien-cuu--phat-trien-tich-hop-he-thong-ho-tro-giam-sat--quan-ly--van-han.aspx',\n",
       " '/vn/tin-tuc/17545/thong-bao-ve-viec-chinh-sua-thuyet-minh-de-cuong-va-ky-hop-dong-thuc-hien-de-tai-nccb-trong-linh-vuc-khtnkt-.aspx',\n",
       " '/vn/tin-tuc/17546/thong-bao-ve-viec-chinh-sua-thuyet-minh-de-cuong-va-ky-hop-dong-thuc-hien-de-tai-tiem-nang-do-quy-tai-tro-thuc-hien-tu-nam-2020.aspx',\n",
       " '/vn/tin-tuc/17556/sieu-may-tinh-chan-doan-ncov-trong-10-giay.aspx',\n",
       " '/vn/tin-tuc/17569/thong-bao-thuc-hien-quyet-dinh-so-578-qd-bkhcn-ngay-09-03-2020-cua-bo-truong-bo-khcn-ve-viec-phe-duyet-nhiem-vu-khcn-cap-bo-xet-gi.aspx',\n",
       " '/vn/tin-tuc/17573/thong-bao-ve-viec-tuyen-chon-to-chuc-chu-tri-va-ca-nhan-chu-nhiem-thuc-hien-nhiem-vu-khoa-hoc-va-cong-nghe-cap-quoc-gia-quyet-dinh.aspx',\n",
       " '/vn/tin-tuc/17575/cac-bai-nghien-cuu-moi-ve-covid-19-tu-ngay-13-3-den-ngay-19-3-2020.aspx'}"
      ]
     },
     "execution_count": 31,
     "metadata": {},
     "output_type": "execute_result"
    }
   ],
   "source": [
    "new_post"
   ]
  },
  {
   "cell_type": "code",
   "execution_count": 27,
   "metadata": {},
   "outputs": [
    {
     "data": {
      "text/plain": [
       "978"
      ]
     },
     "execution_count": 27,
     "metadata": {},
     "output_type": "execute_result"
    }
   ],
   "source": [
    "map_url_nid['/vn/tin-tuc/16427/thu-tuong--uu-tien-lam-cac-dich-vu-cong-thiet-yeu-voi-nguoi-dan--doanh-nghiep.aspx']"
   ]
  },
  {
   "cell_type": "code",
   "execution_count": 14,
   "metadata": {},
   "outputs": [],
   "source": [
    "maxtime = trans[3][number_rows-1]"
   ]
  },
  {
   "cell_type": "code",
   "execution_count": 15,
   "metadata": {},
   "outputs": [
    {
     "data": {
      "text/plain": [
       "1582206657"
      ]
     },
     "execution_count": 15,
     "metadata": {},
     "output_type": "execute_result"
    }
   ],
   "source": [
    "maxtime"
   ]
  },
  {
   "cell_type": "code",
   "execution_count": 16,
   "metadata": {},
   "outputs": [],
   "source": [
    "SPLIT_TEST_TIMESTAMP = maxtime - 86400 * 7\n",
    "tra_sess = list(filter(lambda x: x[0] < SPLIT_TEST_TIMESTAMP, all_sess))\n",
    "tes_sess = list(filter(lambda x: x[0] >= SPLIT_TEST_TIMESTAMP, all_sess))\n",
    "train_data = []\n",
    "train_label = []\n",
    "remap_item = {} #nid -> train_id\n",
    "\n",
    "remap_info = {}\n",
    "map_url_trainid = {}\n",
    "\n",
    "item_no = 1\n",
    "for time, sess in tra_sess:\n",
    "    new_sess = []\n",
    "    for item in sess:\n",
    "        if item not in remap_item:\n",
    "            remap_item[item] = item_no\n",
    "            remap_info[item_no] = map_nid_info[item]\n",
    "            map_url_trainid[map_nid_info[item][0]] = item_no\n",
    "            item_no += 1\n",
    "        new_sess.append(remap_item[item])\n",
    "    for i in range(1, len(new_sess)):\n",
    "        train_data.append(new_sess[:i])\n",
    "        train_label.append(new_sess[i])\n",
    "test_data = []\n",
    "test_label = []\n",
    "for time, sess in tes_sess:\n",
    "    new_sess = []\n",
    "    for item in sess:\n",
    "        if item in remap_item:\n",
    "            new_sess.append(remap_item[item])\n",
    "    for i in range(1, len(new_sess)):\n",
    "        test_data.append(new_sess[:i])\n",
    "        test_label.append(new_sess[i])"
   ]
  },
  {
   "cell_type": "code",
   "execution_count": 17,
   "metadata": {},
   "outputs": [
    {
     "data": {
      "text/plain": [
       "1581601857"
      ]
     },
     "execution_count": 17,
     "metadata": {},
     "output_type": "execute_result"
    }
   ],
   "source": [
    "SPLIT_TEST_TIMESTAMP"
   ]
  },
  {
   "cell_type": "code",
   "execution_count": 18,
   "metadata": {},
   "outputs": [
    {
     "data": {
      "text/plain": [
       "2576"
      ]
     },
     "execution_count": 18,
     "metadata": {},
     "output_type": "execute_result"
    }
   ],
   "source": [
    "len(remap_info)"
   ]
  },
  {
   "cell_type": "code",
   "execution_count": 19,
   "metadata": {},
   "outputs": [
    {
     "data": {
      "text/plain": [
       "(58869, 58869, 1707, 1707)"
      ]
     },
     "execution_count": 19,
     "metadata": {},
     "output_type": "execute_result"
    }
   ],
   "source": [
    "len(train_data), len(train_label), len(test_data), len(test_label)"
   ]
  },
  {
   "cell_type": "code",
   "execution_count": 20,
   "metadata": {},
   "outputs": [],
   "source": [
    "import pickle\n",
    "\n",
    "with open('train_most_19Feb.pkl', 'wb') as f:\n",
    "    pickle.dump([train_data, train_label], f)\n",
    "with open('test_most_19Feb.pkl', 'wb') as f:\n",
    "    pickle.dump([test_data, test_label], f)"
   ]
  },
  {
   "cell_type": "code",
   "execution_count": 21,
   "metadata": {},
   "outputs": [],
   "source": [
    "# with open('map_id_nid.pkl', 'wb') as f:\n",
    "#     pickle.dump(map_id_nid, f)\n",
    "# with open('map_url_nid.pkl', 'wb') as f:\n",
    "#     pickle.dump(map_url_nid, f)\n",
    "# with open('map_nid_url.pkl', 'wb') as f:\n",
    "#     pickle.dump(map_nid_url, f)"
   ]
  },
  {
   "cell_type": "code",
   "execution_count": 22,
   "metadata": {},
   "outputs": [],
   "source": [
    "import pickle\n",
    "\n",
    "with open('remap_info_most.pkl', 'wb') as f:\n",
    "    pickle.dump(remap_info, f)\n",
    "    \n",
    "with open('map_url_trainid.pkl', 'wb') as f:\n",
    "    pickle.dump(map_url_trainid, f)"
   ]
  },
  {
   "cell_type": "code",
   "execution_count": null,
   "metadata": {},
   "outputs": [],
   "source": []
  },
  {
   "cell_type": "code",
   "execution_count": null,
   "metadata": {},
   "outputs": [],
   "source": []
  },
  {
   "cell_type": "code",
   "execution_count": null,
   "metadata": {},
   "outputs": [],
   "source": []
  }
 ],
 "metadata": {
  "kernelspec": {
   "display_name": "kc01-training",
   "language": "python",
   "name": "kc01-training"
  },
  "language_info": {
   "codemirror_mode": {
    "name": "ipython",
    "version": 3
   },
   "file_extension": ".py",
   "mimetype": "text/x-python",
   "name": "python",
   "nbconvert_exporter": "python",
   "pygments_lexer": "ipython3",
   "version": "3.7.3"
  }
 },
 "nbformat": 4,
 "nbformat_minor": 4
}
